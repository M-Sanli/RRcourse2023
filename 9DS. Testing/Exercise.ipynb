{
 "cells": [
  {
   "cell_type": "markdown",
   "id": "06e7b33e",
   "metadata": {},
   "source": [
    "# Exercise"
   ]
  },
  {
   "cell_type": "markdown",
   "id": "502a8cef",
   "metadata": {},
   "source": [
    "## 1."
   ]
  },
  {
   "cell_type": "code",
   "execution_count": 1,
   "id": "eb9456ec",
   "metadata": {},
   "outputs": [],
   "source": [
    "def convert_temperature(temperature, target):\n",
    "    if target == \"c\":\n",
    "        return (temperature - 32) * 5/9\n",
    "    elif target == \"k\":\n",
    "        return (temperature - 32) * 5/9 + 273.15\n",
    "    else:\n",
    "        raise ValueError(\"Invalid target temperature scale. Supported scales are 'Celsius' and 'Kelvin'!\")\n",
    "        \n",
    "# Fixed one        \n",
    "def convert_temperature(temperature, target):\n",
    "    if target == \"c\":\n",
    "        return (temperature - 32) * 5/9\n",
    "    elif target == \"k\":\n",
    "        if temperature >= -459.67:  # Absolute zero in Fahrenheit\n",
    "            return (temperature - 32) * 5/9 + 273.15\n",
    "        else:\n",
    "            raise ValueError(\"Temperature below absolute zero is not physically possible.\")\n",
    "    else:\n",
    "        raise ValueError(\"Invalid target temperature scale. Supported scales are 'Celsius' and 'Kelvin'.\")\n"
   ]
  },
  {
   "cell_type": "markdown",
   "id": "80cbf957",
   "metadata": {},
   "source": [
    "## 2."
   ]
  },
  {
   "cell_type": "code",
   "execution_count": 15,
   "id": "2cc8488d",
   "metadata": {},
   "outputs": [],
   "source": [
    "fahrenheit = 0\n",
    "target = \"k\"\n",
    "\n",
    "converted_temp = convert_temperature(fahrenheit, target)"
   ]
  },
  {
   "cell_type": "code",
   "execution_count": 17,
   "id": "3e6586c1",
   "metadata": {},
   "outputs": [
    {
     "name": "stdout",
     "output_type": "stream",
     "text": [
      "0°F is equal to 255.37 k.\n"
     ]
    }
   ],
   "source": [
    "print(f\"{fahrenheit}°F is equal to {converted_temp:.2f} {target}.\")\n"
   ]
  },
  {
   "cell_type": "markdown",
   "id": "6a6cf35e",
   "metadata": {},
   "source": [
    "## 3."
   ]
  },
  {
   "cell_type": "code",
   "execution_count": 19,
   "id": "387391ab",
   "metadata": {},
   "outputs": [
    {
     "ename": "AssertionError",
     "evalue": "Conversion error for -500°F to k. Expected: 227.59, Got: -22.41",
     "output_type": "error",
     "traceback": [
      "\u001b[1;31m---------------------------------------------------------------------------\u001b[0m",
      "\u001b[1;31mAssertionError\u001b[0m                            Traceback (most recent call last)",
      "\u001b[1;32m~\\AppData\\Local\\Temp\\ipykernel_21304\\1650478025.py\u001b[0m in \u001b[0;36m<module>\u001b[1;34m\u001b[0m\n\u001b[0;32m     10\u001b[0m         \u001b[1;32massert\u001b[0m \u001b[0mabs\u001b[0m\u001b[1;33m(\u001b[0m\u001b[0mconverted_temp\u001b[0m \u001b[1;33m-\u001b[0m \u001b[0mexpected\u001b[0m\u001b[1;33m)\u001b[0m \u001b[1;33m<\u001b[0m \u001b[1;36m0.01\u001b[0m\u001b[1;33m,\u001b[0m \u001b[1;34mf\"Conversion error for {fahrenheit}°F to {target}. Expected: {expected}, Got: {converted_temp:.2f}\"\u001b[0m\u001b[1;33m\u001b[0m\u001b[1;33m\u001b[0m\u001b[0m\n\u001b[0;32m     11\u001b[0m \u001b[1;33m\u001b[0m\u001b[0m\n\u001b[1;32m---> 12\u001b[1;33m \u001b[0mtest_temperature_conversion\u001b[0m\u001b[1;33m(\u001b[0m\u001b[1;33m)\u001b[0m\u001b[1;33m\u001b[0m\u001b[1;33m\u001b[0m\u001b[0m\n\u001b[0m\u001b[0;32m     13\u001b[0m \u001b[0mprint\u001b[0m\u001b[1;33m(\u001b[0m\u001b[1;34m\"All tests passed!\"\u001b[0m\u001b[1;33m)\u001b[0m\u001b[1;33m\u001b[0m\u001b[1;33m\u001b[0m\u001b[0m\n",
      "\u001b[1;32m~\\AppData\\Local\\Temp\\ipykernel_21304\\1650478025.py\u001b[0m in \u001b[0;36mtest_temperature_conversion\u001b[1;34m()\u001b[0m\n\u001b[0;32m      8\u001b[0m     \u001b[1;32mfor\u001b[0m \u001b[0mfahrenheit\u001b[0m\u001b[1;33m,\u001b[0m \u001b[0mtarget\u001b[0m\u001b[1;33m,\u001b[0m \u001b[0mexpected\u001b[0m \u001b[1;32min\u001b[0m \u001b[0mtest_cases\u001b[0m\u001b[1;33m:\u001b[0m\u001b[1;33m\u001b[0m\u001b[1;33m\u001b[0m\u001b[0m\n\u001b[0;32m      9\u001b[0m         \u001b[0mconverted_temp\u001b[0m \u001b[1;33m=\u001b[0m \u001b[0mconvert_temperature\u001b[0m\u001b[1;33m(\u001b[0m\u001b[0mfahrenheit\u001b[0m\u001b[1;33m,\u001b[0m \u001b[0mtarget\u001b[0m\u001b[1;33m)\u001b[0m\u001b[1;33m\u001b[0m\u001b[1;33m\u001b[0m\u001b[0m\n\u001b[1;32m---> 10\u001b[1;33m         \u001b[1;32massert\u001b[0m \u001b[0mabs\u001b[0m\u001b[1;33m(\u001b[0m\u001b[0mconverted_temp\u001b[0m \u001b[1;33m-\u001b[0m \u001b[0mexpected\u001b[0m\u001b[1;33m)\u001b[0m \u001b[1;33m<\u001b[0m \u001b[1;36m0.01\u001b[0m\u001b[1;33m,\u001b[0m \u001b[1;34mf\"Conversion error for {fahrenheit}°F to {target}. Expected: {expected}, Got: {converted_temp:.2f}\"\u001b[0m\u001b[1;33m\u001b[0m\u001b[1;33m\u001b[0m\u001b[0m\n\u001b[0m\u001b[0;32m     11\u001b[0m \u001b[1;33m\u001b[0m\u001b[0m\n\u001b[0;32m     12\u001b[0m \u001b[0mtest_temperature_conversion\u001b[0m\u001b[1;33m(\u001b[0m\u001b[1;33m)\u001b[0m\u001b[1;33m\u001b[0m\u001b[1;33m\u001b[0m\u001b[0m\n",
      "\u001b[1;31mAssertionError\u001b[0m: Conversion error for -500°F to k. Expected: 227.59, Got: -22.41"
     ]
    }
   ],
   "source": [
    "def test_temperature_conversion():\n",
    "    test_cases = [\n",
    "        (-500, \"k\", 227.59),\n",
    "        (0, \"k\", 255.37),\n",
    "        (1000, \"k\", 811.15)\n",
    "    ]\n",
    "\n",
    "    for fahrenheit, target, expected in test_cases:\n",
    "        converted_temp = convert_temperature(fahrenheit, target)\n",
    "        assert abs(converted_temp - expected) < 0.01, f\"Conversion error for {fahrenheit}°F to {target}. Expected: {expected}, Got: {converted_temp:.2f}\"\n",
    "\n",
    "test_temperature_conversion()\n",
    "print(\"All tests passed!\")\n"
   ]
  },
  {
   "cell_type": "code",
   "execution_count": null,
   "id": "bc4986d2",
   "metadata": {},
   "outputs": [],
   "source": []
  }
 ],
 "metadata": {
  "kernelspec": {
   "display_name": "Python 3 (ipykernel)",
   "language": "python",
   "name": "python3"
  },
  "language_info": {
   "codemirror_mode": {
    "name": "ipython",
    "version": 3
   },
   "file_extension": ".py",
   "mimetype": "text/x-python",
   "name": "python",
   "nbconvert_exporter": "python",
   "pygments_lexer": "ipython3",
   "version": "3.9.13"
  }
 },
 "nbformat": 4,
 "nbformat_minor": 5
}
